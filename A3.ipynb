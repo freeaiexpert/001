{
 "cells": [
  {
   "cell_type": "code",
   "execution_count": 1,
   "id": "218142cd-a725-432a-9faf-e149fb317e52",
   "metadata": {},
   "outputs": [
    {
     "name": "stdout",
     "output_type": "stream",
     "text": [
      "📋 First few rows of the dataset:\n",
      "   sepal.length  sepal.width  petal.length  petal.width      species\n",
      "0           5.1          3.5           1.4          0.2  Iris-setosa\n",
      "1           4.9          3.0           1.4          0.2  Iris-setosa\n",
      "2           4.7          3.2           1.3          0.2  Iris-setosa\n",
      "3           4.6          3.1           1.5          0.2  Iris-setosa\n",
      "4           5.0          3.6           1.4          0.2  Iris-setosa\n",
      "\n",
      "📊 Summary Statistics Grouped by Species:\n",
      "                sepal.length                                              \\\n",
      "                       count   mean       std  min    25%  50%  75%  max   \n",
      "species                                                                    \n",
      "Iris-setosa             50.0  5.006  0.352490  4.3  4.800  5.0  5.2  5.8   \n",
      "Iris-versicolor         50.0  5.936  0.516171  4.9  5.600  5.9  6.3  7.0   \n",
      "Iris-virginica          50.0  6.588  0.635880  4.9  6.225  6.5  6.9  7.9   \n",
      "\n",
      "                sepal.width         ... petal.length      petal.width         \\\n",
      "                      count   mean  ...          75%  max       count   mean   \n",
      "species                             ...                                        \n",
      "Iris-setosa            50.0  3.418  ...        1.575  1.9        50.0  0.244   \n",
      "Iris-versicolor        50.0  2.770  ...        4.600  5.1        50.0  1.326   \n",
      "Iris-virginica         50.0  2.974  ...        5.875  6.9        50.0  2.026   \n",
      "\n",
      "                                                    \n",
      "                      std  min  25%  50%  75%  max  \n",
      "species                                             \n",
      "Iris-setosa      0.107210  0.1  0.2  0.2  0.3  0.6  \n",
      "Iris-versicolor  0.197753  1.0  1.2  1.3  1.5  1.8  \n",
      "Iris-virginica   0.274650  1.4  1.8  2.0  2.3  2.5  \n",
      "\n",
      "[3 rows x 32 columns]\n"
     ]
    }
   ],
   "source": [
    "# Importing necessary libraries\n",
    "import pandas as pd\n",
    "import numpy as np\n",
    "\n",
    "# Load the Iris dataset (you can change the path if it's locally available or use a URL)\n",
    "url = \"https://archive.ics.uci.edu/ml/machine-learning-databases/iris/iris.data\"\n",
    "column_names = ['sepal.length', 'sepal.width', 'petal.length', 'petal.width', 'species']\n",
    "df = pd.read_csv(url, header=None, names=column_names)\n",
    "\n",
    "# Display the first few rows of the dataset\n",
    "print(\"📋 First few rows of the dataset:\")\n",
    "print(df.head())\n",
    "\n",
    "# Grouping the data by the categorical variable 'species'\n",
    "grouped = df.groupby('species').describe()\n",
    "\n",
    "# Display the summary statistics (mean, median, min, max, std, etc.) for each species\n",
    "print(\"\\n📊 Summary Statistics Grouped by Species:\")\n",
    "print(grouped)\n"
   ]
  }
 ],
 "metadata": {
  "kernelspec": {
   "display_name": "Python 3 (ipykernel)",
   "language": "python",
   "name": "python3"
  },
  "language_info": {
   "codemirror_mode": {
    "name": "ipython",
    "version": 3
   },
   "file_extension": ".py",
   "mimetype": "text/x-python",
   "name": "python",
   "nbconvert_exporter": "python",
   "pygments_lexer": "ipython3",
   "version": "3.13.0"
  }
 },
 "nbformat": 4,
 "nbformat_minor": 5
}
